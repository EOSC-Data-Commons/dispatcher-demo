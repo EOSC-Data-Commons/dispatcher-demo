{
 "cells": [
  {
   "cell_type": "code",
   "execution_count": 21,
   "id": "26d3de2c",
   "metadata": {},
   "outputs": [],
   "source": [
    "import requests\n",
    "import json\n",
    "\n"
   ]
  },
  {
   "cell_type": "code",
   "execution_count": 22,
   "id": "410fbfde",
   "metadata": {},
   "outputs": [],
   "source": [
    "url = \"http://78.128.235.167/api/requests/\"\n",
    "\n",
    "# Define the path to the JSON file\n",
    "json_file_path = \"payload.json\"\n"
   ]
  },
  {
   "cell_type": "code",
   "execution_count": 23,
   "id": "7cced780",
   "metadata": {},
   "outputs": [
    {
     "name": "stdout",
     "output_type": "stream",
     "text": [
      "aaaa\n"
     ]
    }
   ],
   "source": [
    "# default_workflow_url = \"https://dockstore.org/api/ga4gh/trs/v2/tools/%23workflow%2Fgithub.com%2Flaitanawe%2Fismb2024%2Fgalaxy_example/versions/main/PLAIN_GALAXY/descriptor//Galaxy-Workflow-reverse_file_galaxy_workflow.ga\"\n",
    "# default_txt_file_url = \"https://example-files.online-convert.com/document/txt/example.txt\"\n",
    "\n",
    "# # Get user input for workflow and txt file URLs\n",
    "# workflow_url = input(f\"Enter workflow URL (default: {default_workflow_url}): \") or default_workflow_url\n",
    "# txt_file_url = input(f\"Enter txt file URL (default: {default_txt_file_url}): \") or default_txt_file_url\n",
    "\n",
    "print('aaaa')"
   ]
  },
  {
   "cell_type": "code",
   "execution_count": 29,
   "id": "ec40dba8",
   "metadata": {},
   "outputs": [
    {
     "name": "stdout",
     "output_type": "stream",
     "text": [
      "payload.json\n",
      "{\"@context\": \"https://w3id.org/ro/crate/1.1/context\", \"@graph\": [{\"@id\": \"./\", \"@type\": \"Dataset\", \"datePublished\": \"2025-05-06T14:35:47+00:00\", \"hasPart\": [{\"@id\": \"https://dockstore.org/api/ga4gh/trs/v2/tools/%23workflow%2Fgithub.com%2Flaitanawe%2Fismb2024%2Fgalaxy_example/versions/main/PLAIN_GALAXY/descriptor//Galaxy-Workflow-reverse_file_galaxy_workflow.ga\"}, {\"@id\": \"https://example-files.online-convert.com/document/txt/example.txt\"}]}, {\"@id\": \"ro-crate-metadata.json\", \"@type\": \"CreativeWork\", \"about\": {\"@id\": \"./\"}, \"conformsTo\": {\"@id\": \"https://w3id.org/ro/crate/1.1\"}}, {\"@id\": \"https://dockstore.org/api/ga4gh/trs/v2/tools/%23workflow%2Fgithub.com%2Flaitanawe%2Fismb2024%2Fgalaxy_example/versions/main/PLAIN_GALAXY/descriptor//Galaxy-Workflow-reverse_file_galaxy_workflow.ga\", \"@type\": [\"File\", \"SoftwareSourceCode\", \"ComputationalWorkflow\"], \"name\": \"Example galaxy workflow\", \"programmingLanguage\": {\"@id\": \"https://w3id.org/workflowhub/workflow-ro-crate#galaxy\"}, \"url\": \"https://dockstore.org/api/ga4gh/trs/v2/tools/%23workflow%2Fgithub.com%2Flaitanawe%2Fismb2024%2Fgalaxy_example/versions/main/GALAXY/files?format=zip\"}, {\"@id\": \"https://w3id.org/workflowhub/workflow-ro-crate#galaxy\", \"@type\": \"ComputerLanguage\", \"identifier\": {\"@id\": \"https://galaxyproject.org/\"}, \"name\": \"Galaxy\", \"url\": {\"@id\": \"https://galaxyproject.org/\"}}, {\"@id\": \"https://example-files.online-convert.com/document/txt/example.txt\", \"@type\": \"File\", \"name\": \"simpletext_input\", \"encodingFormat\": \"text/txt\"}]}\n",
      "200\n",
      "{'url': 'https://test.galaxyproject.org/workflow_landings/4c55e3ee-d367-44a3-b3a0-ff9a84d2e685?public=False'}\n"
     ]
    }
   ],
   "source": [
    "try:\n",
    "    # Load the JSON payload from the file\n",
    "    print(json_file_path)\n",
    "    with open(json_file_path, \"r\") as file:\n",
    "        payload = json.load(file)\n",
    "    # Replace placeholders in the payload with user input\n",
    "#     payload[\"@graph\"][0][\"hasPart\"][0][\"@id\"] = workflow_url\n",
    "#     payload[\"@graph\"][0][\"hasPart\"][1][\"@id\"] = txt_file_url\n",
    "#     payload[\"@graph\"][2][\"@id\"] = workflow_url\n",
    "#     payload[\"@graph\"][4][\"@id\"] = txt_file_url\n",
    "    # Make the POST request\n",
    "    print(json.dumps(payload))\n",
    "    response = requests.post(url, json=payload)\n",
    "    # Print the response\n",
    "    print(response.status_code)\n",
    "    print(response.json())\n",
    "\n",
    "except FileNotFoundError:\n",
    "    print(f\"File not found: {json_file_path}\")\n",
    "except json.JSONDecodeError as e:\n",
    "    print(f\"Error parsing JSON: {e}\")\n",
    "except requests.exceptions.RequestException as e:\n",
    "    print(f\"Error making request: {e}\")"
   ]
  },
  {
   "cell_type": "code",
   "execution_count": null,
   "id": "0b4e13f6",
   "metadata": {},
   "outputs": [],
   "source": []
  },
  {
   "cell_type": "code",
   "execution_count": null,
   "id": "90890861",
   "metadata": {},
   "outputs": [],
   "source": []
  }
 ],
 "metadata": {
  "kernelspec": {
   "display_name": "Python 3 (ipykernel)",
   "language": "python",
   "name": "python3"
  },
  "language_info": {
   "codemirror_mode": {
    "name": "ipython",
    "version": 3
   },
   "file_extension": ".py",
   "mimetype": "text/x-python",
   "name": "python",
   "nbconvert_exporter": "python",
   "pygments_lexer": "ipython3",
   "version": "3.10.12"
  }
 },
 "nbformat": 4,
 "nbformat_minor": 5
}
